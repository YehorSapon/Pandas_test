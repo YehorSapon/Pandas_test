{
 "cells": [
  {
   "cell_type": "markdown",
   "id": "b6eaa5e9",
   "metadata": {},
   "source": [
    "# New jupyter notebook\n",
    "\n",
    "Try to exsersise with Markdawn `sd`\n",
    "## Header 2\n",
    "\n",
    "y\n"
   ]
  },
  {
   "cell_type": "code",
   "execution_count": 5,
   "id": "e4d0a829",
   "metadata": {},
   "outputs": [
    {
     "name": "stdout",
     "output_type": "stream",
     "text": [
      "\n"
     ]
    },
    {
     "data": {
      "text/plain": [
       "NoneType"
      ]
     },
     "execution_count": 5,
     "metadata": {},
     "output_type": "execute_result"
    }
   ],
   "source": [
    "type(print())\n"
   ]
  },
  {
   "cell_type": "code",
   "execution_count": 6,
   "id": "5f9f7923",
   "metadata": {},
   "outputs": [],
   "source": [
    "import pandas as pd\n"
   ]
  },
  {
   "cell_type": "code",
   "execution_count": 7,
   "id": "7e31c763",
   "metadata": {},
   "outputs": [
    {
     "data": {
      "text/plain": [
       "'1.4.2'"
      ]
     },
     "execution_count": 7,
     "metadata": {},
     "output_type": "execute_result"
    }
   ],
   "source": [
    "pd.__version__"
   ]
  },
  {
   "cell_type": "code",
   "execution_count": 10,
   "id": "7559ac83",
   "metadata": {},
   "outputs": [
    {
     "data": {
      "text/plain": [
       "0    1\n",
       "1    2\n",
       "2    3\n",
       "3    4\n",
       "dtype: int64"
      ]
     },
     "execution_count": 10,
     "metadata": {},
     "output_type": "execute_result"
    }
   ],
   "source": [
    "ds1 = pd.Series([1, 2, 3 , 4])\n",
    "ds1"
   ]
  },
  {
   "cell_type": "code",
   "execution_count": 11,
   "id": "2b1a9d00",
   "metadata": {},
   "outputs": [],
   "source": [
    "# value ds1"
   ]
  },
  {
   "cell_type": "code",
   "execution_count": 12,
   "id": "cc392ed2",
   "metadata": {},
   "outputs": [
    {
     "data": {
      "text/plain": [
       "array([1, 2, 3, 4], dtype=int64)"
      ]
     },
     "execution_count": 12,
     "metadata": {},
     "output_type": "execute_result"
    }
   ],
   "source": [
    "ds1.values"
   ]
  },
  {
   "cell_type": "code",
   "execution_count": 13,
   "id": "63ca6461",
   "metadata": {},
   "outputs": [],
   "source": [
    "# indexes ds1"
   ]
  },
  {
   "cell_type": "code",
   "execution_count": 14,
   "id": "a378ef81",
   "metadata": {},
   "outputs": [
    {
     "data": {
      "text/plain": [
       "RangeIndex(start=0, stop=4, step=1)"
      ]
     },
     "execution_count": 14,
     "metadata": {},
     "output_type": "execute_result"
    }
   ],
   "source": [
    "ds1.index"
   ]
  },
  {
   "cell_type": "code",
   "execution_count": 15,
   "id": "ef8b358d",
   "metadata": {},
   "outputs": [
    {
     "data": {
      "text/plain": [
       "[0, 1, 2, 3]"
      ]
     },
     "execution_count": 15,
     "metadata": {},
     "output_type": "execute_result"
    }
   ],
   "source": [
    "list(ds1.index)"
   ]
  },
  {
   "cell_type": "code",
   "execution_count": 17,
   "id": "12809a7b",
   "metadata": {},
   "outputs": [
    {
     "data": {
      "text/plain": [
       "a    1\n",
       "b    2\n",
       "c    3\n",
       "d    4\n",
       "dtype: int64"
      ]
     },
     "execution_count": 17,
     "metadata": {},
     "output_type": "execute_result"
    }
   ],
   "source": [
    "ds2 = pd.Series([1, 2, 3, 4], index = ['a', 'b', 'c', 'd'])\n",
    "ds2"
   ]
  },
  {
   "cell_type": "code",
   "execution_count": 18,
   "id": "d7ff3230",
   "metadata": {},
   "outputs": [
    {
     "data": {
      "text/plain": [
       "a    1\n",
       "b    2\n",
       "c    3\n",
       "d    4\n",
       "dtype: int64"
      ]
     },
     "execution_count": 18,
     "metadata": {},
     "output_type": "execute_result"
    }
   ],
   "source": [
    "ds3 = pd.Series({'a': 1, 'b': 2, 'c': 3, 'd' : 4})\n",
    "ds3"
   ]
  },
  {
   "cell_type": "code",
   "execution_count": 19,
   "id": "b9e7f98a",
   "metadata": {},
   "outputs": [
    {
     "data": {
      "application/json": {
       "cell": {
        "!": "OSMagics",
        "HTML": "Other",
        "SVG": "Other",
        "bash": "Other",
        "capture": "ExecutionMagics",
        "cmd": "Other",
        "debug": "ExecutionMagics",
        "file": "Other",
        "html": "DisplayMagics",
        "javascript": "DisplayMagics",
        "js": "DisplayMagics",
        "latex": "DisplayMagics",
        "markdown": "DisplayMagics",
        "perl": "Other",
        "prun": "ExecutionMagics",
        "pypy": "Other",
        "python": "Other",
        "python2": "Other",
        "python3": "Other",
        "ruby": "Other",
        "script": "ScriptMagics",
        "sh": "Other",
        "svg": "DisplayMagics",
        "sx": "OSMagics",
        "system": "OSMagics",
        "time": "ExecutionMagics",
        "timeit": "ExecutionMagics",
        "writefile": "OSMagics"
       },
       "line": {
        "alias": "OSMagics",
        "alias_magic": "BasicMagics",
        "autoawait": "AsyncMagics",
        "autocall": "AutoMagics",
        "automagic": "AutoMagics",
        "autosave": "KernelMagics",
        "bookmark": "OSMagics",
        "cd": "OSMagics",
        "clear": "KernelMagics",
        "cls": "KernelMagics",
        "colors": "BasicMagics",
        "conda": "PackagingMagics",
        "config": "ConfigMagics",
        "connect_info": "KernelMagics",
        "copy": "Other",
        "ddir": "Other",
        "debug": "ExecutionMagics",
        "dhist": "OSMagics",
        "dirs": "OSMagics",
        "doctest_mode": "BasicMagics",
        "echo": "Other",
        "ed": "Other",
        "edit": "KernelMagics",
        "env": "OSMagics",
        "gui": "BasicMagics",
        "hist": "Other",
        "history": "HistoryMagics",
        "killbgscripts": "ScriptMagics",
        "ldir": "Other",
        "less": "KernelMagics",
        "load": "CodeMagics",
        "load_ext": "ExtensionMagics",
        "loadpy": "CodeMagics",
        "logoff": "LoggingMagics",
        "logon": "LoggingMagics",
        "logstart": "LoggingMagics",
        "logstate": "LoggingMagics",
        "logstop": "LoggingMagics",
        "ls": "Other",
        "lsmagic": "BasicMagics",
        "macro": "ExecutionMagics",
        "magic": "BasicMagics",
        "matplotlib": "PylabMagics",
        "mkdir": "Other",
        "more": "KernelMagics",
        "notebook": "BasicMagics",
        "page": "BasicMagics",
        "pastebin": "CodeMagics",
        "pdb": "ExecutionMagics",
        "pdef": "NamespaceMagics",
        "pdoc": "NamespaceMagics",
        "pfile": "NamespaceMagics",
        "pinfo": "NamespaceMagics",
        "pinfo2": "NamespaceMagics",
        "pip": "PackagingMagics",
        "popd": "OSMagics",
        "pprint": "BasicMagics",
        "precision": "BasicMagics",
        "prun": "ExecutionMagics",
        "psearch": "NamespaceMagics",
        "psource": "NamespaceMagics",
        "pushd": "OSMagics",
        "pwd": "OSMagics",
        "pycat": "OSMagics",
        "pylab": "PylabMagics",
        "qtconsole": "KernelMagics",
        "quickref": "BasicMagics",
        "recall": "HistoryMagics",
        "rehashx": "OSMagics",
        "reload_ext": "ExtensionMagics",
        "ren": "Other",
        "rep": "Other",
        "rerun": "HistoryMagics",
        "reset": "NamespaceMagics",
        "reset_selective": "NamespaceMagics",
        "rmdir": "Other",
        "run": "ExecutionMagics",
        "save": "CodeMagics",
        "sc": "OSMagics",
        "set_env": "OSMagics",
        "store": "StoreMagics",
        "sx": "OSMagics",
        "system": "OSMagics",
        "tb": "ExecutionMagics",
        "time": "ExecutionMagics",
        "timeit": "ExecutionMagics",
        "unalias": "OSMagics",
        "unload_ext": "ExtensionMagics",
        "who": "NamespaceMagics",
        "who_ls": "NamespaceMagics",
        "whos": "NamespaceMagics",
        "xdel": "NamespaceMagics",
        "xmode": "BasicMagics"
       }
      },
      "text/plain": [
       "Available line magics:\n",
       "%alias  %alias_magic  %autoawait  %autocall  %automagic  %autosave  %bookmark  %cd  %clear  %cls  %colors  %conda  %config  %connect_info  %copy  %ddir  %debug  %dhist  %dirs  %doctest_mode  %echo  %ed  %edit  %env  %gui  %hist  %history  %killbgscripts  %ldir  %less  %load  %load_ext  %loadpy  %logoff  %logon  %logstart  %logstate  %logstop  %ls  %lsmagic  %macro  %magic  %matplotlib  %mkdir  %more  %notebook  %page  %pastebin  %pdb  %pdef  %pdoc  %pfile  %pinfo  %pinfo2  %pip  %popd  %pprint  %precision  %prun  %psearch  %psource  %pushd  %pwd  %pycat  %pylab  %qtconsole  %quickref  %recall  %rehashx  %reload_ext  %ren  %rep  %rerun  %reset  %reset_selective  %rmdir  %run  %save  %sc  %set_env  %store  %sx  %system  %tb  %time  %timeit  %unalias  %unload_ext  %who  %who_ls  %whos  %xdel  %xmode\n",
       "\n",
       "Available cell magics:\n",
       "%%!  %%HTML  %%SVG  %%bash  %%capture  %%cmd  %%debug  %%file  %%html  %%javascript  %%js  %%latex  %%markdown  %%perl  %%prun  %%pypy  %%python  %%python2  %%python3  %%ruby  %%script  %%sh  %%svg  %%sx  %%system  %%time  %%timeit  %%writefile\n",
       "\n",
       "Automagic is ON, % prefix IS NOT needed for line magics."
      ]
     },
     "execution_count": 19,
     "metadata": {},
     "output_type": "execute_result"
    }
   ],
   "source": [
    "%lsmagic"
   ]
  },
  {
   "cell_type": "code",
   "execution_count": 21,
   "id": "9c5b8407",
   "metadata": {},
   "outputs": [],
   "source": [
    "%page?"
   ]
  },
  {
   "cell_type": "code",
   "execution_count": 29,
   "id": "740b0ac4",
   "metadata": {},
   "outputs": [
    {
     "data": {
      "text/plain": [
       "True"
      ]
     },
     "execution_count": 29,
     "metadata": {},
     "output_type": "execute_result"
    }
   ],
   "source": [
    "ds2['b'] == ds2.b == ds2[1]"
   ]
  },
  {
   "cell_type": "code",
   "execution_count": 27,
   "id": "a6f4f7bf",
   "metadata": {},
   "outputs": [
    {
     "data": {
      "text/plain": [
       "2"
      ]
     },
     "execution_count": 27,
     "metadata": {},
     "output_type": "execute_result"
    }
   ],
   "source": [
    "ds2.b"
   ]
  },
  {
   "cell_type": "code",
   "execution_count": 28,
   "id": "5bb2f052",
   "metadata": {},
   "outputs": [
    {
     "data": {
      "text/plain": [
       "2"
      ]
     },
     "execution_count": 28,
     "metadata": {},
     "output_type": "execute_result"
    }
   ],
   "source": [
    "ds2[1]"
   ]
  },
  {
   "cell_type": "code",
   "execution_count": 30,
   "id": "126eea12",
   "metadata": {},
   "outputs": [],
   "source": [
    "ds2['e'] = 5"
   ]
  },
  {
   "cell_type": "code",
   "execution_count": 31,
   "id": "a6517c10",
   "metadata": {},
   "outputs": [
    {
     "data": {
      "text/plain": [
       "a    1\n",
       "b    2\n",
       "c    3\n",
       "d    4\n",
       "e    5\n",
       "dtype: int64"
      ]
     },
     "execution_count": 31,
     "metadata": {},
     "output_type": "execute_result"
    }
   ],
   "source": [
    "ds2"
   ]
  },
  {
   "cell_type": "code",
   "execution_count": 32,
   "id": "1a7a73af",
   "metadata": {},
   "outputs": [],
   "source": [
    "ds2['e'] = 4"
   ]
  },
  {
   "cell_type": "code",
   "execution_count": 33,
   "id": "b5007d81",
   "metadata": {},
   "outputs": [
    {
     "data": {
      "text/plain": [
       "a    1\n",
       "b    2\n",
       "c    3\n",
       "d    4\n",
       "e    4\n",
       "dtype: int64"
      ]
     },
     "execution_count": 33,
     "metadata": {},
     "output_type": "execute_result"
    }
   ],
   "source": [
    "ds2"
   ]
  },
  {
   "cell_type": "code",
   "execution_count": 34,
   "id": "68cc74c6",
   "metadata": {},
   "outputs": [
    {
     "data": {
      "text/plain": [
       "a    1\n",
       "b    2\n",
       "c    3\n",
       "d    4\n",
       "e    5\n",
       "dtype: int64"
      ]
     },
     "execution_count": 34,
     "metadata": {},
     "output_type": "execute_result"
    }
   ],
   "source": [
    "ds2.at['e'] = 5\n",
    "ds2"
   ]
  },
  {
   "cell_type": "code",
   "execution_count": 35,
   "id": "d137fc55",
   "metadata": {},
   "outputs": [
    {
     "data": {
      "text/plain": [
       "a    1\n",
       "b    2\n",
       "c    3\n",
       "d    4\n",
       "e    5\n",
       "f    6\n",
       "dtype: int64"
      ]
     },
     "execution_count": 35,
     "metadata": {},
     "output_type": "execute_result"
    }
   ],
   "source": [
    "ds2.at['f'] = 6\n",
    "ds2"
   ]
  },
  {
   "cell_type": "code",
   "execution_count": 38,
   "id": "46566c70",
   "metadata": {},
   "outputs": [
    {
     "data": {
      "text/plain": [
       "a    2\n",
       "b    3\n",
       "c    4\n",
       "d    4\n",
       "e    5\n",
       "f    6\n",
       "dtype: int64"
      ]
     },
     "execution_count": 38,
     "metadata": {},
     "output_type": "execute_result"
    }
   ],
   "source": [
    "ds2[['a', 'b', 'c']] = [2, 3, 4]\n",
    "ds2"
   ]
  },
  {
   "cell_type": "code",
   "execution_count": 41,
   "id": "89dd5ef2",
   "metadata": {},
   "outputs": [
    {
     "data": {
      "text/plain": [
       "c    4\n",
       "b    3\n",
       "e    5\n",
       "dtype: int64"
      ]
     },
     "execution_count": 41,
     "metadata": {},
     "output_type": "execute_result"
    }
   ],
   "source": [
    "ds2[['c', 'b', 'e']]"
   ]
  },
  {
   "cell_type": "code",
   "execution_count": 42,
   "id": "d7fa63cf",
   "metadata": {},
   "outputs": [
    {
     "data": {
      "text/plain": [
       "0    1\n",
       "1    2\n",
       "2    3\n",
       "3    4\n",
       "5    5\n",
       "dtype: int64"
      ]
     },
     "execution_count": 42,
     "metadata": {},
     "output_type": "execute_result"
    }
   ],
   "source": [
    "ds1[5] = 5\n",
    "ds1"
   ]
  },
  {
   "cell_type": "code",
   "execution_count": 47,
   "id": "49708960",
   "metadata": {},
   "outputs": [
    {
     "name": "stdout",
     "output_type": "stream",
     "text": [
      "57.5 µs ± 658 ns per loop (mean ± std. dev. of 7 runs, 10,000 loops each)\n"
     ]
    }
   ],
   "source": [
    "%timeit ds1 * 2"
   ]
  },
  {
   "cell_type": "code",
   "execution_count": 45,
   "id": "6e9db31c",
   "metadata": {},
   "outputs": [
    {
     "data": {
      "text/plain": [
       "True"
      ]
     },
     "execution_count": 45,
     "metadata": {},
     "output_type": "execute_result"
    }
   ],
   "source": [
    "ds1.iat[1] == ds1.at[1] == ds1[1]"
   ]
  },
  {
   "cell_type": "code",
   "execution_count": 49,
   "id": "07363e45",
   "metadata": {},
   "outputs": [
    {
     "data": {
      "text/plain": [
       "Minsk      1000000.0\n",
       "Vitebsk     200000.0\n",
       "Grodno      250000.0\n",
       "Brest       300000.0\n",
       "Mogilev          NaN\n",
       "dtype: float64"
      ]
     },
     "execution_count": 49,
     "metadata": {},
     "output_type": "execute_result"
    }
   ],
   "source": [
    "cities = pd.Series(\n",
    "    {'Minsk': 1000000, 'Vitebsk': 200000, 'Brest': 300000, 'Grodno': 250000}, \n",
    "    index = ['Minsk', 'Vitebsk', 'Grodno', 'Brest', 'Mogilev']\n",
    ")\n",
    "cities"
   ]
  },
  {
   "cell_type": "code",
   "execution_count": 57,
   "id": "0fbef40d",
   "metadata": {},
   "outputs": [
    {
     "data": {
      "text/plain": [
       "Minsk      False\n",
       "Vitebsk    False\n",
       "Grodno     False\n",
       "Brest      False\n",
       "Mogilev     True\n",
       "dtype: bool"
      ]
     },
     "execution_count": 57,
     "metadata": {},
     "output_type": "execute_result"
    }
   ],
   "source": [
    "cities.isnull()"
   ]
  },
  {
   "cell_type": "code",
   "execution_count": 58,
   "id": "77ad59ba",
   "metadata": {},
   "outputs": [
    {
     "data": {
      "text/plain": [
       "Minsk       True\n",
       "Vitebsk     True\n",
       "Grodno      True\n",
       "Brest       True\n",
       "Mogilev    False\n",
       "dtype: bool"
      ]
     },
     "execution_count": 58,
     "metadata": {},
     "output_type": "execute_result"
    }
   ],
   "source": [
    "cities.notnull()"
   ]
  },
  {
   "cell_type": "code",
   "execution_count": 59,
   "id": "d2caa750",
   "metadata": {},
   "outputs": [
    {
     "data": {
      "text/plain": [
       "Minsk       True\n",
       "Vitebsk    False\n",
       "Grodno      True\n",
       "Brest       True\n",
       "Mogilev    False\n",
       "dtype: bool"
      ]
     },
     "execution_count": 59,
     "metadata": {},
     "output_type": "execute_result"
    }
   ],
   "source": [
    "cities > 200000"
   ]
  },
  {
   "cell_type": "code",
   "execution_count": 60,
   "id": "47c993de",
   "metadata": {},
   "outputs": [
    {
     "data": {
      "text/plain": [
       "Minsk      1000000.0\n",
       "Vitebsk     200000.0\n",
       "Grodno      250000.0\n",
       "Brest       300000.0\n",
       "dtype: float64"
      ]
     },
     "execution_count": 60,
     "metadata": {},
     "output_type": "execute_result"
    }
   ],
   "source": [
    "cities[cities.notnull()]"
   ]
  },
  {
   "cell_type": "code",
   "execution_count": 61,
   "id": "f5509368",
   "metadata": {},
   "outputs": [
    {
     "data": {
      "text/plain": [
       "Mogilev   NaN\n",
       "dtype: float64"
      ]
     },
     "execution_count": 61,
     "metadata": {},
     "output_type": "execute_result"
    }
   ],
   "source": [
    "cities[cities.isnull()]"
   ]
  },
  {
   "cell_type": "code",
   "execution_count": 69,
   "id": "e8a1a785",
   "metadata": {},
   "outputs": [
    {
     "data": {
      "text/plain": [
       "Vitebsk    200000.0\n",
       "Grodno     250000.0\n",
       "Brest      300000.0\n",
       "Mogilev         NaN\n",
       "dtype: float64"
      ]
     },
     "execution_count": 69,
     "metadata": {},
     "output_type": "execute_result"
    }
   ],
   "source": [
    "# & == and\n",
    "# | == or\n",
    "# ~ == not\n",
    "cities[ ~(cities > 300000) | (cities < 900000)]"
   ]
  },
  {
   "cell_type": "code",
   "execution_count": 75,
   "id": "8da3d5e3",
   "metadata": {},
   "outputs": [
    {
     "name": "stdout",
     "output_type": "stream",
     "text": [
      "Index : Minsk, Value : 1000000.0 \n",
      "Index : Vitebsk, Value : 200000.0 \n",
      "Index : Grodno, Value : 250000.0 \n",
      "Index : Brest, Value : 300000.0 \n",
      "Index : Mogilev, Value : nan \n"
     ]
    }
   ],
   "source": [
    "for index, value in cities.items():\n",
    "    print(f\"Index : {index}, Value : {value} \")"
   ]
  },
  {
   "cell_type": "code",
   "execution_count": 76,
   "id": "f6194275",
   "metadata": {},
   "outputs": [
    {
     "data": {
      "text/plain": [
       "(5,)"
      ]
     },
     "execution_count": 76,
     "metadata": {},
     "output_type": "execute_result"
    }
   ],
   "source": [
    "cities.shape"
   ]
  },
  {
   "cell_type": "code",
   "execution_count": 78,
   "id": "951d311e",
   "metadata": {},
   "outputs": [
    {
     "data": {
      "text/plain": [
       "4"
      ]
     },
     "execution_count": 78,
     "metadata": {},
     "output_type": "execute_result"
    }
   ],
   "source": [
    "cities.count()"
   ]
  },
  {
   "cell_type": "code",
   "execution_count": 79,
   "id": "ae0d12ae",
   "metadata": {},
   "outputs": [
    {
     "data": {
      "text/plain": [
       "5"
      ]
     },
     "execution_count": 79,
     "metadata": {},
     "output_type": "execute_result"
    }
   ],
   "source": [
    "cities.size"
   ]
  },
  {
   "cell_type": "code",
   "execution_count": 82,
   "id": "f0572312",
   "metadata": {},
   "outputs": [
    {
     "data": {
      "text/plain": [
       "Minsk      1000000.0\n",
       "Vitebsk     200000.0\n",
       "Grodno      250000.0\n",
       "Brest       300000.0\n",
       "Mogilev          NaN\n",
       "dtype: float64"
      ]
     },
     "execution_count": 82,
     "metadata": {},
     "output_type": "execute_result"
    }
   ],
   "source": [
    "cities2 = cities\n",
    "cities2"
   ]
  },
  {
   "cell_type": "code",
   "execution_count": 83,
   "id": "92fe6484",
   "metadata": {},
   "outputs": [
    {
     "data": {
      "text/plain": [
       "Minsk      1000000.0\n",
       "Vitebsk     200000.0\n",
       "Grodno      250000.0\n",
       "Brest       300000.0\n",
       "Mogilev     252000.0\n",
       "dtype: float64"
      ]
     },
     "execution_count": 83,
     "metadata": {},
     "output_type": "execute_result"
    }
   ],
   "source": [
    "cities2.at['Mogilev'] = 252000\n",
    "cities2"
   ]
  },
  {
   "cell_type": "code",
   "execution_count": 84,
   "id": "d95c73a2",
   "metadata": {},
   "outputs": [
    {
     "data": {
      "text/plain": [
       "Minsk      1000000.0\n",
       "Vitebsk     200000.0\n",
       "Grodno      250000.0\n",
       "Brest       300000.0\n",
       "Mogilev     252000.0\n",
       "dtype: float64"
      ]
     },
     "execution_count": 84,
     "metadata": {},
     "output_type": "execute_result"
    }
   ],
   "source": [
    "cities"
   ]
  },
  {
   "cell_type": "code",
   "execution_count": 85,
   "id": "f260396c",
   "metadata": {},
   "outputs": [
    {
     "data": {
      "text/plain": [
       "Minsk      1000000.0\n",
       "Vitebsk     200000.0\n",
       "Grodno      250000.0\n",
       "Brest       300000.0\n",
       "Mogilev     252000.0\n",
       "Polock       95000.0\n",
       "dtype: float64"
      ]
     },
     "execution_count": 85,
     "metadata": {},
     "output_type": "execute_result"
    }
   ],
   "source": [
    "cities3 = cities.copy()\n",
    "cities3.at['Polock'] = 95000\n",
    "cities3"
   ]
  },
  {
   "cell_type": "code",
   "execution_count": 86,
   "id": "406b2ded",
   "metadata": {},
   "outputs": [
    {
     "data": {
      "text/plain": [
       "Minsk      1000000.0\n",
       "Vitebsk     200000.0\n",
       "Grodno      250000.0\n",
       "Brest       300000.0\n",
       "Mogilev     252000.0\n",
       "dtype: float64"
      ]
     },
     "execution_count": 86,
     "metadata": {},
     "output_type": "execute_result"
    }
   ],
   "source": [
    "cities"
   ]
  },
  {
   "cell_type": "markdown",
   "id": "5357f9e4",
   "metadata": {},
   "source": [
    "# Agregation"
   ]
  },
  {
   "cell_type": "code",
   "execution_count": 88,
   "id": "ba12dcf3",
   "metadata": {},
   "outputs": [
    {
     "data": {
      "text/plain": [
       "min    95000.0\n",
       "dtype: float64"
      ]
     },
     "execution_count": 88,
     "metadata": {},
     "output_type": "execute_result"
    }
   ],
   "source": [
    "cities3.agg(['min'])"
   ]
  },
  {
   "cell_type": "code",
   "execution_count": 89,
   "id": "8f765921",
   "metadata": {},
   "outputs": [
    {
     "data": {
      "text/plain": [
       "mean    349500.0\n",
       "dtype: float64"
      ]
     },
     "execution_count": 89,
     "metadata": {},
     "output_type": "execute_result"
    }
   ],
   "source": [
    "cities3.agg(['mean'])"
   ]
  },
  {
   "cell_type": "code",
   "execution_count": 90,
   "id": "db772d41",
   "metadata": {},
   "outputs": [
    {
     "data": {
      "text/plain": [
       "max    1000000.0\n",
       "dtype: float64"
      ]
     },
     "execution_count": 90,
     "metadata": {},
     "output_type": "execute_result"
    }
   ],
   "source": [
    "cities3.agg(['max'])"
   ]
  },
  {
   "cell_type": "code",
   "execution_count": 92,
   "id": "5ebf5ece",
   "metadata": {},
   "outputs": [
    {
     "data": {
      "text/plain": [
       "sum     2097000.0\n",
       "min       95000.0\n",
       "max     1000000.0\n",
       "mean     349500.0\n",
       "dtype: float64"
      ]
     },
     "execution_count": 92,
     "metadata": {},
     "output_type": "execute_result"
    }
   ],
   "source": [
    "cities3.agg(['sum', 'min', 'max', 'mean'])"
   ]
  },
  {
   "cell_type": "markdown",
   "id": "5a086546",
   "metadata": {},
   "source": [
    "# Apply"
   ]
  },
  {
   "cell_type": "code",
   "execution_count": 94,
   "id": "634a18b2",
   "metadata": {},
   "outputs": [],
   "source": [
    "def test(x):\n",
    "    \"\"\"Transform even integeres\"\"\"\n",
    "    if not x % 2:\n",
    "        return x + 1\n",
    "    else:\n",
    "        return x"
   ]
  },
  {
   "cell_type": "code",
   "execution_count": 95,
   "id": "9e222d48",
   "metadata": {},
   "outputs": [
    {
     "data": {
      "text/plain": [
       "0    1\n",
       "1    3\n",
       "2    3\n",
       "3    5\n",
       "5    5\n",
       "dtype: int64"
      ]
     },
     "execution_count": 95,
     "metadata": {},
     "output_type": "execute_result"
    }
   ],
   "source": [
    "ds1.apply(test)"
   ]
  },
  {
   "cell_type": "code",
   "execution_count": 98,
   "id": "8ca8842d",
   "metadata": {},
   "outputs": [
    {
     "data": {
      "text/plain": [
       "0    1\n",
       "1    3\n",
       "2    3\n",
       "3    5\n",
       "5    5\n",
       "dtype: int64"
      ]
     },
     "execution_count": 98,
     "metadata": {},
     "output_type": "execute_result"
    }
   ],
   "source": [
    "ds1.apply(lambda x: x + 1 if not x % 2 else x )"
   ]
  },
  {
   "cell_type": "code",
   "execution_count": null,
   "id": "91f54164",
   "metadata": {},
   "outputs": [],
   "source": []
  }
 ],
 "metadata": {
  "kernelspec": {
   "display_name": "Python 3 (ipykernel)",
   "language": "python",
   "name": "python3"
  },
  "language_info": {
   "codemirror_mode": {
    "name": "ipython",
    "version": 3
   },
   "file_extension": ".py",
   "mimetype": "text/x-python",
   "name": "python",
   "nbconvert_exporter": "python",
   "pygments_lexer": "ipython3",
   "version": "3.9.12"
  }
 },
 "nbformat": 4,
 "nbformat_minor": 5
}
